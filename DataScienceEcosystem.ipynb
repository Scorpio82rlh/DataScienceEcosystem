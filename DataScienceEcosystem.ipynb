{
 "cells": [
  {
   "cell_type": "markdown",
   "id": "ff501277",
   "metadata": {},
   "source": [
    "# Data Science Tools and Ecosystem"
   ]
  },
  {
   "cell_type": "markdown",
   "id": "d0e2e010",
   "metadata": {},
   "source": [
    "# Data Science Tools and Ecosystem"
   ]
  },
  {
   "cell_type": "markdown",
   "id": "3f754458",
   "metadata": {},
   "source": [
    "# Introduction\n",
    "\n",
    "In this notebook, Data Science Tools and Ecosystem are summarized."
   ]
  },
  {
   "cell_type": "markdown",
   "id": "e0791d58",
   "metadata": {},
   "source": [
    "## Some of the popular languages that Data Scientists use are:\n",
    "\n",
    "1. Python: Widely used for its readability, versatility, and extensive libraries for data manipulation, analysis, and machine learning.\n",
    "2. R: Renowned for statistical analysis and data visualization, with a strong focus on bioinformatics and social sciences.\n",
    "3. SQL: Essential for querying and manipulating data stored in relational databases.\n"
   ]
  },
  {
   "cell_type": "markdown",
   "id": "246ddb3b",
   "metadata": {},
   "source": [
    "## Some of the commonly used libraries used by Data Scientists include:\n",
    "\n",
    "1. NumPy (Numerical Python): A fundamental library offering powerful array and matrix manipulation capabilities, essential for numerical computations in data science.\n",
    "2. Pandas:  A high-performance, easy-to-use library for data analysis and manipulation. It provides data structures like DataFrames and Series, simplifying data handling and analysis tasks.\n",
    "3. Matplotlib: A versatile library for creating various static, animated, and interactive visualizations like charts, graphs, and plots, allowing effective data exploration and communication."
   ]
  },
  {
   "cell_type": "markdown",
   "id": "8d13a08f",
   "metadata": {},
   "source": [
    "## Data Science Tools\n",
    "\n",
    "| Data Science Tools |\n",
    "|--------------------|\n",
    "| Jupyter Notebooks  |\n",
    "| RStudio            |\n",
    "| VS Code with Python extension |"
   ]
  },
  {
   "cell_type": "markdown",
   "id": "ba35dc59",
   "metadata": {},
   "source": [
    "### Below are a few examples of evaluating arithmetic expressions in Python\n",
    "\n",
    "To evaluate arithmetic expressions in Python, you can simply use the Python interpreter or write scripts. Python supports various arithmetic operations like addition `+`, subtraction `-`, multiplication `*`, division `/`, and more. Here are a few examples:\n",
    "\n",
    "```python\n",
    "# Addition\n",
    "3 + 5\n",
    "\n",
    "# Subtraction\n",
    "10 - 2\n",
    "\n",
    "# Multiplication\n",
    "4 * 7\n",
    "\n",
    "# Division\n",
    "20 / 5"
   ]
  },
  {
   "cell_type": "markdown",
   "id": "b2951db2",
   "metadata": {},
   "source": [
    "# This is a simple arithmetic expression to multiply then add integers\n",
    "\n"
   ]
  },
  {
   "cell_type": "code",
   "execution_count": 2,
   "id": "3cd974c2",
   "metadata": {},
   "outputs": [
    {
     "data": {
      "text/plain": [
       "17"
      ]
     },
     "execution_count": 2,
     "metadata": {},
     "output_type": "execute_result"
    }
   ],
   "source": [
    "(3*4)+5"
   ]
  },
  {
   "cell_type": "markdown",
   "id": "d85ad15f",
   "metadata": {},
   "source": [
    "# This will convert 200 minutes to hours by dividing by 60"
   ]
  },
  {
   "cell_type": "code",
   "execution_count": 4,
   "id": "a167a73c",
   "metadata": {},
   "outputs": [
    {
     "name": "stdout",
     "output_type": "stream",
     "text": [
      "3.3333333333333335\n"
     ]
    }
   ],
   "source": [
    "hours = 200 / 60\n",
    "print(hours)"
   ]
  },
  {
   "cell_type": "markdown",
   "id": "966230d2",
   "metadata": {},
   "source": [
    "## Objectives:\n",
    "\n",
    "* Popular Data Science Languages: Python, SQL, & R\n",
    "\n",
    "* A list of commonly used libraries by Data Science: NumPy, Pandas, & Matplotlib \n",
    "\n",
    "* Data Science Tools used by Data Science: Jupyter Notebook, Rstudio, VS Code with Python extension\n"
   ]
  },
  {
   "cell_type": "markdown",
   "id": "59ee2c2d",
   "metadata": {},
   "source": [
    "## Author\n",
    "\n",
    "Robert Hayes"
   ]
  },
  {
   "cell_type": "code",
   "execution_count": null,
   "id": "2cf86e4a",
   "metadata": {},
   "outputs": [],
   "source": []
  }
 ],
 "metadata": {
  "kernelspec": {
   "display_name": "Python 3 (ipykernel)",
   "language": "python",
   "name": "python3"
  },
  "language_info": {
   "codemirror_mode": {
    "name": "ipython",
    "version": 3
   },
   "file_extension": ".py",
   "mimetype": "text/x-python",
   "name": "python",
   "nbconvert_exporter": "python",
   "pygments_lexer": "ipython3",
   "version": "3.11.5"
  }
 },
 "nbformat": 4,
 "nbformat_minor": 5
}
